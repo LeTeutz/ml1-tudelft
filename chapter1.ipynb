{
 "cells": [
  {
   "cell_type": "markdown",
   "source": [
    "# Setup"
   ],
   "metadata": {
    "collapsed": false
   }
  },
  {
   "cell_type": "code",
   "execution_count": 1,
   "outputs": [
    {
     "name": "stdout",
     "output_type": "stream",
     "text": [
      "Collecting git+https://github.com/DMJTax/prtools\n",
      "  Cloning https://github.com/DMJTax/prtools to c:\\users\\teo\\appdata\\local\\temp\\pip-req-build-1fxfttia\n",
      "  Resolved https://github.com/DMJTax/prtools to commit 6251ba682c26fca14383c7d169feeb82609b6455\n",
      "  Preparing metadata (setup.py): started\n",
      "  Preparing metadata (setup.py): finished with status 'done'\n",
      "Requirement already satisfied: scikit-learn in c:\\python310\\lib\\site-packages (from prtools==1.2.1) (1.2.0)\n",
      "Requirement already satisfied: numpy in c:\\python310\\lib\\site-packages (from prtools==1.2.1) (1.25.2)\n",
      "Requirement already satisfied: matplotlib in c:\\python310\\lib\\site-packages (from prtools==1.2.1) (3.8.0)\n",
      "Requirement already satisfied: requests in c:\\python310\\lib\\site-packages (from prtools==1.2.1) (2.28.1)\n",
      "Requirement already satisfied: contourpy>=1.0.1 in c:\\python310\\lib\\site-packages (from matplotlib->prtools==1.2.1) (1.0.6)\n",
      "Requirement already satisfied: cycler>=0.10 in c:\\python310\\lib\\site-packages (from matplotlib->prtools==1.2.1) (0.11.0)\n",
      "Requirement already satisfied: fonttools>=4.22.0 in c:\\python310\\lib\\site-packages (from matplotlib->prtools==1.2.1) (4.38.0)\n",
      "Requirement already satisfied: kiwisolver>=1.0.1 in c:\\python310\\lib\\site-packages (from matplotlib->prtools==1.2.1) (1.4.4)\n",
      "Requirement already satisfied: packaging>=20.0 in c:\\python310\\lib\\site-packages (from matplotlib->prtools==1.2.1) (21.3)\n",
      "Requirement already satisfied: pillow>=6.2.0 in c:\\python310\\lib\\site-packages (from matplotlib->prtools==1.2.1) (10.0.1)\n",
      "Requirement already satisfied: pyparsing>=2.3.1 in c:\\python310\\lib\\site-packages (from matplotlib->prtools==1.2.1) (3.0.9)\n",
      "Requirement already satisfied: python-dateutil>=2.7 in c:\\python310\\lib\\site-packages (from matplotlib->prtools==1.2.1) (2.8.2)\n",
      "Requirement already satisfied: charset-normalizer<3,>=2 in c:\\python310\\lib\\site-packages (from requests->prtools==1.2.1) (2.1.1)\n",
      "Requirement already satisfied: idna<4,>=2.5 in c:\\python310\\lib\\site-packages (from requests->prtools==1.2.1) (3.3)\n",
      "Requirement already satisfied: urllib3<1.27,>=1.21.1 in c:\\python310\\lib\\site-packages (from requests->prtools==1.2.1) (1.26.11)\n",
      "Requirement already satisfied: certifi>=2017.4.17 in c:\\python310\\lib\\site-packages (from requests->prtools==1.2.1) (2022.6.15)\n",
      "Requirement already satisfied: scipy>=1.3.2 in c:\\python310\\lib\\site-packages (from scikit-learn->prtools==1.2.1) (1.9.3)\n",
      "Requirement already satisfied: joblib>=1.1.1 in c:\\python310\\lib\\site-packages (from scikit-learn->prtools==1.2.1) (1.2.0)\n",
      "Requirement already satisfied: threadpoolctl>=2.0.0 in c:\\python310\\lib\\site-packages (from scikit-learn->prtools==1.2.1) (3.1.0)\n",
      "Requirement already satisfied: six>=1.5 in c:\\python310\\lib\\site-packages (from python-dateutil>=2.7->matplotlib->prtools==1.2.1) (1.16.0)\n",
      "Building wheels for collected packages: prtools\n",
      "  Building wheel for prtools (setup.py): started\n",
      "  Building wheel for prtools (setup.py): finished with status 'done'\n",
      "  Created wheel for prtools: filename=prtools-1.2.1-py3-none-any.whl size=1886915 sha256=d41f25999c2070b7e440fc3a1195e8addcc71d9e34d6feeb7be1c2af9a9e77b0\n",
      "  Stored in directory: C:\\Users\\Teo\\AppData\\Local\\Temp\\pip-ephem-wheel-cache-ez2hcjre\\wheels\\8b\\89\\b2\\8457645fdbe406095c349b96799eb5962eb1cee77e6d24a1c6\n",
      "Successfully built prtools\n",
      "Installing collected packages: prtools\n",
      "Successfully installed prtools-1.2.1\n"
     ]
    },
    {
     "name": "stderr",
     "output_type": "stream",
     "text": [
      "  Running command git clone --filter=blob:none --quiet https://github.com/DMJTax/prtools 'C:\\Users\\Teo\\AppData\\Local\\Temp\\pip-req-build-1fxfttia'\n",
      "\n",
      "[notice] A new release of pip is available: 23.1.2 -> 23.3.1\n",
      "[notice] To update, run: C:\\Python310\\python.exe -m pip install --upgrade pip\n"
     ]
    }
   ],
   "source": [
    "!pip install git+https://github.com/DMJTax/prtools"
   ],
   "metadata": {
    "collapsed": false
   }
  },
  {
   "cell_type": "markdown",
   "source": [
    "# 1.1 Decision Theory"
   ],
   "metadata": {
    "collapsed": false
   }
  },
  {
   "cell_type": "markdown",
   "source": [
    "## Exercise 1.1\n",
    "\n",
    "### (a)\n",
    " Assume that we managed to represent objects from a two-class classification problem by a single feature. We know that the objects from class $ω_1$ have a Gaussian distribution with $μ_1 = 0$ and ${σ_1}^2 = 1/2$, and the objects from class ω2 have a Gaussian distribution with $μ_2 = 1$ and ${σ_2}^2 = 1/2$. Derive the position of the decision boundary when both class priors are equal. (Note that we are now assuming that we know the distributions exactly, so effectively we’re making the Bayes classifier.)\n"
   ],
   "metadata": {
    "collapsed": false
   }
  },
  {
   "cell_type": "markdown",
   "source": [
    "### (a) Answer\n",
    "\n",
    "In a 2-class classification problem with equal class priors, the decision boundary is determined by the point where the posterior probabilities for each class are equal. The Bayes classifier assigns an observation $x$ to the class that maximizes the posterior probability $P(ω_i|x)$, where $ω_i$ is the class and $x$ is the observation. The posterior probability is given by Bayes' theorem:\n",
    "$$ P(ω_i|x) = \\frac{P(ω_i|x)P(ω_i)}{P(x)} $$\n",
    "Since the class priors are equal, $P(ω_1) = P(ω_2) = \\frac{1}{2}$, we ignore the priors in the comparison. To compute the decision boundary:\n",
    "$$ P(ω_1|x) = P(ω_2|x) $$\n",
    "Since the distribution is Gaussian:\n",
    "$$\n",
    "\\begin{equation*}\n",
    "\\frac{1}{\\sqrt{2\\pi\\sigma_1^2}}e^{-\\frac{(x-\\mu_1)^2}{2\\sigma_1^2}} = \\frac{1}{\\sqrt{2\\pi\\sigma_2^2}}e^{-\\frac{(x-\\mu_2)^2}{2\\sigma_2^2}}\n",
    "\\end{equation*}\n",
    "$$\n",
    "\n",
    "Substitute the given values $μ_1 = 0$, $\\sigma_1^2 = \\frac{1}{2}$, $μ_2 = 1$, $\\sigma_2^2 = \\frac{1}{2}$:\n",
    "$$\n",
    "\\begin{equation*}\n",
    "\\frac{1}{\\sqrt{\\pi}}e^{-x^2} = \\frac{1}{\\sqrt{\\pi}}e^{-(x-1)^2}\n",
    "\\end{equation*}\n",
    "$$\n",
    "Solve for $x$. Take the natural logarithm of both sides:\n",
    "$$\n",
    "-x^2 = -(x-1)^2\n",
    "$$\n",
    "$$\n",
    "x^2 = x^2 - 2x + 1\n",
    "$$\n",
    "This results in $x = \\frac{1}{2}$ as decision boundary."
   ],
   "metadata": {
    "collapsed": false
   }
  },
  {
   "cell_type": "code",
   "execution_count": 5,
   "outputs": [],
   "source": [],
   "metadata": {
    "collapsed": false
   }
  },
  {
   "cell_type": "code",
   "execution_count": 5,
   "outputs": [],
   "source": [],
   "metadata": {
    "collapsed": false
   }
  }
 ],
 "metadata": {
  "kernelspec": {
   "display_name": "Python 3",
   "language": "python",
   "name": "python3"
  },
  "language_info": {
   "codemirror_mode": {
    "name": "ipython",
    "version": 2
   },
   "file_extension": ".py",
   "mimetype": "text/x-python",
   "name": "python",
   "nbconvert_exporter": "python",
   "pygments_lexer": "ipython2",
   "version": "2.7.6"
  }
 },
 "nbformat": 4,
 "nbformat_minor": 0
}
